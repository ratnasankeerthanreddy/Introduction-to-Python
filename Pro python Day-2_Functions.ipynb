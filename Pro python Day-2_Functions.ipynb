{
 "cells": [
  {
   "cell_type": "markdown",
   "metadata": {},
   "source": [
    "# Functions"
   ]
  },
  {
   "cell_type": "markdown",
   "metadata": {},
   "source": [
    "### Write a Python function to find the Max of three numbers"
   ]
  },
  {
   "cell_type": "code",
   "execution_count": 1,
   "metadata": {},
   "outputs": [
    {
     "name": "stdout",
     "output_type": "stream",
     "text": [
      "132\n"
     ]
    }
   ],
   "source": [
    "def maxi_of_3(a, b, c): \n",
    "  \n",
    "    if (a >= b) and (a >= c): \n",
    "        largest = a \n",
    "  \n",
    "    elif (b >= a) and (b >= c): \n",
    "        largest = b \n",
    "    \n",
    "    else: \n",
    "        largest = c \n",
    "          \n",
    "    return largest \n",
    "  \n",
    "  \n",
    " \n",
    "a = 120\n",
    "b = 124\n",
    "c = 132\n",
    "print(maxi_of_3(a, b, c)) "
   ]
  },
  {
   "cell_type": "markdown",
   "metadata": {},
   "source": [
    "### Write a Python function to sum all the numbers in a list"
   ]
  },
  {
   "cell_type": "code",
   "execution_count": 2,
   "metadata": {},
   "outputs": [
    {
     "name": "stdout",
     "output_type": "stream",
     "text": [
      "140\n"
     ]
    }
   ],
   "source": [
    "def sum_of_num(numbers):\n",
    "    sum = 0\n",
    "    for x in numbers:\n",
    "        sum += x\n",
    "    return sum\n",
    "print(sum_of_num((8, 82, 33, 10, 7)))\n"
   ]
  },
  {
   "cell_type": "markdown",
   "metadata": {},
   "source": [
    "### Write a Python function to check whether a number is in a given range"
   ]
  },
  {
   "cell_type": "code",
   "execution_count": 3,
   "metadata": {},
   "outputs": [
    {
     "name": "stdout",
     "output_type": "stream",
     "text": [
      "Enter the lower limit of range: \n",
      " 1\n",
      "\n",
      "\n",
      "Enter the upper limit of range: \n",
      " 56\n",
      "\n",
      "\n",
      "enter any number:125\n",
      "The number 125 is not in range (1, 56)\n"
     ]
    }
   ],
   "source": [
    "# Given range\n",
    "X = int(input(\"Enter the lower limit of range: \\n \"))\n",
    "print(\"\\n\")\n",
    "Y = int(input(\"Enter the upper limit of range: \\n \"))\n",
    "print(\"\\n\")\n",
    "def range_num(num):\n",
    "   # using comaparision operator\n",
    "    if X <= num <= Y:\n",
    "        \n",
    "        print('The number {} is in range ({}, {})'.format(num, X, Y))\n",
    "    \n",
    "    else:\n",
    "        \n",
    "        print('The number {} is not in range ({}, {})'.format(num, X, Y))\n",
    "\n",
    "num=int(input(\"enter any number:\"))\n",
    "range_num(num)"
   ]
  },
  {
   "cell_type": "markdown",
   "metadata": {},
   "source": [
    "### Write a Python program to print the even numbers from a given list."
   ]
  },
  {
   "cell_type": "code",
   "execution_count": 4,
   "metadata": {},
   "outputs": [
    {
     "name": "stdout",
     "output_type": "stream",
     "text": [
      "[2, 4, 6, 8, 0]\n"
     ]
    }
   ],
   "source": [
    "def even_num(lst):\n",
    "    even_list = []\n",
    "    for num in lst:\n",
    "        if num % 2 == 0:\n",
    "            even_list.append(num)\n",
    "    return even_list\n",
    "\n",
    "\n",
    "lst=[1, 2, 3, 4, 5, 6, 7, 8, 9, 0]\n",
    "\n",
    "print(even_num(lst))"
   ]
  },
  {
   "cell_type": "markdown",
   "metadata": {},
   "source": [
    "### Write a Python function that checks whether a passed string is palindrome or not"
   ]
  },
  {
   "cell_type": "code",
   "execution_count": 11,
   "metadata": {},
   "outputs": [
    {
     "name": "stdout",
     "output_type": "stream",
     "text": [
      "Enter the word and see if it is palindrome : sankeerthan\n",
      "This word is NOT PALINDROME..!\n"
     ]
    }
   ],
   "source": [
    "mes=input(\"Enter the word and see if it is palindrome : \")\n",
    "if mes==mes[::-1]:\n",
    "    print(\"This word is PALINDROME..\")\n",
    "else:\n",
    "    print(\"This word is NOT PALINDROME..!\")"
   ]
  }
 ],
 "metadata": {
  "kernelspec": {
   "display_name": "Python 3",
   "language": "python",
   "name": "python3"
  },
  "language_info": {
   "codemirror_mode": {
    "name": "ipython",
    "version": 3
   },
   "file_extension": ".py",
   "mimetype": "text/x-python",
   "name": "python",
   "nbconvert_exporter": "python",
   "pygments_lexer": "ipython3",
   "version": "3.7.3"
  }
 },
 "nbformat": 4,
 "nbformat_minor": 4
}
