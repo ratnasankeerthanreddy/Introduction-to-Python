{
 "cells": [
  {
   "cell_type": "markdown",
   "metadata": {},
   "source": [
    "# List"
   ]
  },
  {
   "cell_type": "markdown",
   "metadata": {},
   "source": [
    "### Write a Python program to sum all the items in a list."
   ]
  },
  {
   "cell_type": "code",
   "execution_count": 2,
   "metadata": {},
   "outputs": [
    {
     "name": "stdout",
     "output_type": "stream",
     "text": [
      "175\n"
     ]
    }
   ],
   "source": [
    "def sum_of_list(lst):\n",
    "    sumnum = 0\n",
    "    for i in lst:\n",
    "        sumnum += i\n",
    "    return sumnum\n",
    "\n",
    "\n",
    "a=[5,101,-65,55,74,5]\n",
    "print(sum_of_list(a))"
   ]
  },
  {
   "cell_type": "markdown",
   "metadata": {},
   "source": [
    "### Write a Python program to multiplies all the items in a list."
   ]
  },
  {
   "cell_type": "code",
   "execution_count": 4,
   "metadata": {},
   "outputs": [
    {
     "name": "stdout",
     "output_type": "stream",
     "text": [
      "15480\n"
     ]
    }
   ],
   "source": [
    "def multilist(lst) :\n",
    "     \n",
    "    \n",
    "    m = 1\n",
    "    for i in lst:\n",
    "         m = m * i \n",
    "    return m \n",
    "     \n",
    "\n",
    "lst = [15, 24, 43] \n",
    "\n",
    "print(multilist(lst))"
   ]
  },
  {
   "cell_type": "markdown",
   "metadata": {},
   "source": [
    "### Write a Python program to get the largest number from a list."
   ]
  },
  {
   "cell_type": "code",
   "execution_count": 6,
   "metadata": {},
   "outputs": [
    {
     "name": "stdout",
     "output_type": "stream",
     "text": [
      "Enter number of elements in list: 5\n",
      "Enter elements: 1\n",
      "Enter elements: 4\n",
      "Enter elements: 95\n",
      "Enter elements: 63\n",
      "Enter elements: 52\n",
      "Largest number from the list is: 95\n"
     ]
    }
   ],
   "source": [
    "# creating empty list \n",
    "list1 = [] \n",
    "  \n",
    "# enter the number of elements to have  in list \n",
    "num = int(input(\"Enter number of elements in list: \")) \n",
    "  \n",
    "# iterating till num to append elements in list \n",
    "for i in range(1, num + 1): \n",
    "    ele = int(input(\"Enter elements: \")) \n",
    "    list1.append(ele) \n",
    "      \n",
    "# print maximum element \n",
    "print(\"Largest number from the list is:\", max(list1)) "
   ]
  },
  {
   "cell_type": "markdown",
   "metadata": {},
   "source": [
    "### Write a Python program to get the smallest number from a list."
   ]
  },
  {
   "cell_type": "code",
   "execution_count": 8,
   "metadata": {},
   "outputs": [
    {
     "name": "stdout",
     "output_type": "stream",
     "text": [
      "Enter number of elements in list: 5\n",
      "Enter elements: 22\n",
      "Enter elements: 12\n",
      "Enter elements: 96\n",
      "Enter elements: -9\n",
      "Enter elements: 251\n",
      "Smallest  number from the list is: -9\n"
     ]
    }
   ],
   "source": [
    "# creating empty list \n",
    "list1 = [] \n",
    "  \n",
    "# enter the number of elements to have  in list \n",
    "num = int(input(\"Enter number of elements in list: \")) \n",
    "  \n",
    "# iterating till num to append elements in list \n",
    "for i in range(1, num + 1): \n",
    "    ele = int(input(\"Enter elements: \")) \n",
    "    list1.append(ele) \n",
    "      \n",
    "# print maximum element \n",
    "print(\"Smallest  number from the list is:\", min(list1)) "
   ]
  },
  {
   "cell_type": "markdown",
   "metadata": {},
   "source": [
    "### Write a Python program to remove duplicates from a list."
   ]
  },
  {
   "cell_type": "code",
   "execution_count": 10,
   "metadata": {},
   "outputs": [
    {
     "name": "stdout",
     "output_type": "stream",
     "text": [
      "List  [11, 12, 13, 11, 12, 14, 15, 14, 16, 12]\n",
      "List After removing duplicates  [11, 12, 13, 14, 15, 16]\n"
     ]
    }
   ],
   "source": [
    "lst = [11, 12, 13, 11, 12, 14, 15, 14 ,16, 12]\n",
    "print(\"List \", lst)\n",
    "temp_lst = []\n",
    "\n",
    "for i in lst:\n",
    "    if i not in temp_lst:\n",
    "        temp_lst.append(i)\n",
    "\n",
    "lst = temp_lst\n",
    "\n",
    "print(\"List After removing duplicates \", lst)"
   ]
  },
  {
   "cell_type": "code",
   "execution_count": null,
   "metadata": {},
   "outputs": [],
   "source": []
  }
 ],
 "metadata": {
  "kernelspec": {
   "display_name": "Python 3",
   "language": "python",
   "name": "python3"
  },
  "language_info": {
   "codemirror_mode": {
    "name": "ipython",
    "version": 3
   },
   "file_extension": ".py",
   "mimetype": "text/x-python",
   "name": "python",
   "nbconvert_exporter": "python",
   "pygments_lexer": "ipython3",
   "version": "3.7.3"
  }
 },
 "nbformat": 4,
 "nbformat_minor": 4
}
