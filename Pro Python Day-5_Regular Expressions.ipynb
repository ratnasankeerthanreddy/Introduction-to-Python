{
 "cells": [
  {
   "cell_type": "markdown",
   "metadata": {},
   "source": [
    "### Write a Python program to check that a string contains only a certain set of characters (in this case a-z, A-Z and 0-9).\n"
   ]
  },
  {
   "cell_type": "code",
   "execution_count": 1,
   "metadata": {},
   "outputs": [
    {
     "name": "stdout",
     "output_type": "stream",
     "text": [
      "Enter any string :sdfghjju654322345678op;//l;'\n",
      "If the sting contains [a-z,A-Z,0-9]then it prints true else false. . !\n",
      "\n",
      "\n",
      "False\n",
      "---------------------------------------------------------------------------\n"
     ]
    }
   ],
   "source": [
    "import re\n",
    "def re_char(strg):\n",
    "    char = re.compile(r'[^a-zA-Z0-9.]')\n",
    "    strg = char.search(strg)\n",
    "    return not bool(strg)\n",
    "\n",
    "str_input = str(input(\"Enter any string :\"))\n",
    "print(\"If the sting contains [a-z,A-Z,0-9]then it prints true else false. . !\")\n",
    "print(\"\\n\")\n",
    "print(re_char(str_input)) \n",
    "print('-'*75)"
   ]
  },
  {
   "cell_type": "markdown",
   "metadata": {},
   "source": [
    "### Write a Python program that matches a string that has an a followed by zero or more b's."
   ]
  },
  {
   "cell_type": "code",
   "execution_count": 2,
   "metadata": {},
   "outputs": [
    {
     "name": "stdout",
     "output_type": "stream",
     "text": [
      "Enter any string :sdyui\n",
      "If the sting contains zero or more b's then it prints 'match found' else 'match not found'. . !\n",
      "\n",
      "\n",
      "Match Not Found . !\n",
      "---------------------------------------------------------------------------\n"
     ]
    }
   ],
   "source": [
    "def str_check(text):\n",
    "        patterns = 'ab*?'\n",
    "        if re.search(patterns,  text):\n",
    "                return 'Match Found . !'\n",
    "        else:\n",
    "                return('Match Not Found . !')\n",
    "\n",
    "str_input = str(input(\"Enter any string :\"))\n",
    "print(\"If the sting contains zero or more b's then it prints 'match found' else 'match not found'. . !\")\n",
    "print(\"\\n\")\n",
    "print(str_check(str_input)) \n",
    "print('-'*75)"
   ]
  },
  {
   "cell_type": "markdown",
   "metadata": {},
   "source": [
    "### Write a Python program that matches a string that has an a followed by one or more b's."
   ]
  },
  {
   "cell_type": "code",
   "execution_count": 3,
   "metadata": {},
   "outputs": [
    {
     "name": "stdout",
     "output_type": "stream",
     "text": [
      "Enter any string :abbbbbbbbbbbbbbbbbbbbbbbbb\n",
      "If the sting contains one or more b's then it prints 'match found' else 'match not found'. . !\n",
      "\n",
      "\n",
      "Match Found . !\n",
      "---------------------------------------------------------------------------\n"
     ]
    }
   ],
   "source": [
    "def str_check2(text):\n",
    "        patterns = 'ab+?'\n",
    "        if re.search(patterns,  text):\n",
    "                return 'Match Found . !'\n",
    "        else:\n",
    "                return('Match Not Found . !')\n",
    "\n",
    "str_input = str(input(\"Enter any string :\"))\n",
    "print(\"If the sting contains one or more b's then it prints 'match found' else 'match not found'. . !\")\n",
    "print(\"\\n\")\n",
    "print(str_check2(str_input)) \n",
    "print('-'*75)"
   ]
  },
  {
   "cell_type": "markdown",
   "metadata": {},
   "source": [
    "### Write a Python program to find sequences of lowercase letters joined with a underscore."
   ]
  },
  {
   "cell_type": "code",
   "execution_count": 4,
   "metadata": {},
   "outputs": [
    {
     "name": "stdout",
     "output_type": "stream",
     "text": [
      "Enter any string :abbbbbbbbbbbbb\n",
      "If the sting contains  lowercase letters joined with a underscore then it prints 'match found' else 'match not found'. . !\n",
      "\n",
      "\n",
      "Match Not Found . !\n",
      "---------------------------------------------------------------------------\n"
     ]
    }
   ],
   "source": [
    "import re\n",
    "def str_check3(text):\n",
    "        patterns = '^[a-z]+_[a-z]+$'\n",
    "        if re.search(patterns,  text):\n",
    "                return 'Match Found . !'\n",
    "        else:\n",
    "                return('Match Not Found . !')\n",
    "\n",
    "str_input = str(input(\"Enter any string :\"))\n",
    "print(\"If the sting contains  lowercase letters joined with a underscore then it prints 'match found' else 'match not found'. . !\")\n",
    "print(\"\\n\")\n",
    "print(str_check3(str_input)) \n",
    "print('-'*75)"
   ]
  },
  {
   "cell_type": "markdown",
   "metadata": {},
   "source": [
    "### Write a Python program that matches a string that has an 'a' followed by anything, ending in 'b'."
   ]
  },
  {
   "cell_type": "code",
   "execution_count": 5,
   "metadata": {},
   "outputs": [
    {
     "name": "stdout",
     "output_type": "stream",
     "text": [
      "Enter any string :abbbbbbbbbbbbbbbbbbbb\n",
      "If the sting contains 'a' followed by anything, ending in 'b' then it prints 'match found' else 'match not found'. . !\n",
      "\n",
      "\n",
      "Match Not Found . !\n",
      "---------------------------------------------------------------------------\n"
     ]
    }
   ],
   "source": [
    "\n",
    "import re\n",
    "def str_check4(text):\n",
    "        patterns = 'a.*?b$'\n",
    "        if re.search(patterns,  text):\n",
    "                return 'Match Found . !'\n",
    "        else:\n",
    "                return('Match Not Found . !')\n",
    "\n",
    "str_input = str(input(\"Enter any string :\"))\n",
    "print(\"If the sting contains 'a' followed by anything, ending in 'b' then it prints 'match found' else 'match not found'. . !\")\n",
    "print(\"\\n\")\n",
    "print(str_check3(str_input)) \n",
    "print('-'*75)"
   ]
  },
  {
   "cell_type": "code",
   "execution_count": null,
   "metadata": {},
   "outputs": [],
   "source": []
  }
 ],
 "metadata": {
  "kernelspec": {
   "display_name": "Python 3",
   "language": "python",
   "name": "python3"
  },
  "language_info": {
   "codemirror_mode": {
    "name": "ipython",
    "version": 3
   },
   "file_extension": ".py",
   "mimetype": "text/x-python",
   "name": "python",
   "nbconvert_exporter": "python",
   "pygments_lexer": "ipython3",
   "version": "3.7.3"
  }
 },
 "nbformat": 4,
 "nbformat_minor": 4
}
