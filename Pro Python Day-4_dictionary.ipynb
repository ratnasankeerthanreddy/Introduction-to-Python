{
 "cells": [
  {
   "cell_type": "markdown",
   "metadata": {},
   "source": [
    "# Dictionary"
   ]
  },
  {
   "cell_type": "markdown",
   "metadata": {},
   "source": [
    "### Write a Python script to sort (ascending and descending) a dictionary by value"
   ]
  },
  {
   "cell_type": "code",
   "execution_count": 1,
   "metadata": {},
   "outputs": [
    {
     "name": "stdout",
     "output_type": "stream",
     "text": [
      "Ascending order is [(0, 0), (1, 2), (2, 1), (3, 4), (4, 3)]\n",
      "Descending order is [(4, 3), (3, 4), (2, 1), (1, 2), (0, 0)]\n",
      "Dictionary {4: 3, 3: 4, 2: 1, 1: 2, 0: 0}\n"
     ]
    }
   ],
   "source": [
    "\n",
    "dcty={1:2,3:4,4:3,2:1,0:0}\n",
    "                                         \n",
    "lst=list(dcty.items())   #conveting the given dict. into list\n",
    "\n",
    "lst.sort()            #sort the list\n",
    "print('Ascending order is',lst) # print the sorted list \n",
    "\n",
    "lst=list(dcty.items())\n",
    "lst.sort(reverse=True) #sort in reverse order\n",
    "print('Descending order is',lst)\n",
    "\n",
    "dict1=dict(lst) # converting the list in dictionary \n",
    "\n",
    "print(\"Dictionary\",dict1)"
   ]
  },
  {
   "cell_type": "markdown",
   "metadata": {},
   "source": [
    "### Write a Python script to add a key to a dictionary."
   ]
  },
  {
   "cell_type": "code",
   "execution_count": 2,
   "metadata": {},
   "outputs": [
    {
     "name": "stdout",
     "output_type": "stream",
     "text": [
      "{0: 110, 1: 220}\n",
      "{0: 110, 1: 220, 2: 430}\n"
     ]
    },
    {
     "data": {
      "text/plain": [
       "{0: 110, 1: 220, 2: 430, 3: 8965532}"
      ]
     },
     "execution_count": 2,
     "metadata": {},
     "output_type": "execute_result"
    }
   ],
   "source": [
    "dct = {0:110, 1:220}\n",
    "print(dct)\n",
    "dct.update({2:430})\n",
    "print(dct)\n",
    "dct.update({3:8965532})\n",
    "dct"
   ]
  },
  {
   "cell_type": "markdown",
   "metadata": {},
   "source": [
    "### Write a Python script to concatenate following dictionaries to create a new one."
   ]
  },
  {
   "cell_type": "code",
   "execution_count": 3,
   "metadata": {},
   "outputs": [
    {
     "name": "stdout",
     "output_type": "stream",
     "text": [
      "None\n",
      "{'d': 116, 'c': 'gh', '2': 120, 'f': 8}\n"
     ]
    }
   ],
   "source": [
    "# Python code to merge dict using update() method\n",
    "def concat(dict1, dict2):\n",
    "    return(dict2.update(dict1))\n",
    "     \n",
    "# Driver code\n",
    "dict1 = {'2': 120, 'f': 8}\n",
    "dict2 = {'d': 116, 'c': \"gh\"}\n",
    " \n",
    "# This return None\n",
    "print(concat(dict1, dict2))\n",
    " \n",
    "# changes made in dict2\n",
    "print(dict2)"
   ]
  },
  {
   "cell_type": "markdown",
   "metadata": {},
   "source": [
    "### Write a Python script to check if a given key already exists in a dictionary."
   ]
  },
  {
   "cell_type": "code",
   "execution_count": 4,
   "metadata": {},
   "outputs": [
    {
     "name": "stdout",
     "output_type": "stream",
     "text": [
      "Key is not present in the dictionary\n",
      "Key is present in the dictionary\n"
     ]
    }
   ],
   "source": [
    "def key_check(x):\n",
    "    if x in dict1:\n",
    "        print('Key is present in the dictionary')\n",
    "    else:\n",
    "        print('Key is not present in the dictionary')\n",
    "\n",
    "\n",
    "        \n",
    "key_check('d')\n",
    "key_check('2')\n"
   ]
  },
  {
   "cell_type": "markdown",
   "metadata": {},
   "source": [
    "### Write a Python program to iterate over dictionaries using for loops."
   ]
  },
  {
   "cell_type": "code",
   "execution_count": 5,
   "metadata": {},
   "outputs": [
    {
     "name": "stdout",
     "output_type": "stream",
     "text": [
      "2\n",
      "f\n"
     ]
    }
   ],
   "source": [
    "#using the previously genrated dict.\n",
    "for i in dict1: \n",
    "    print(i)"
   ]
  },
  {
   "cell_type": "markdown",
   "metadata": {},
   "source": []
  }
 ],
 "metadata": {
  "kernelspec": {
   "display_name": "Python 3",
   "language": "python",
   "name": "python3"
  },
  "language_info": {
   "codemirror_mode": {
    "name": "ipython",
    "version": 3
   },
   "file_extension": ".py",
   "mimetype": "text/x-python",
   "name": "python",
   "nbconvert_exporter": "python",
   "pygments_lexer": "ipython3",
   "version": "3.7.3"
  }
 },
 "nbformat": 4,
 "nbformat_minor": 4
}
