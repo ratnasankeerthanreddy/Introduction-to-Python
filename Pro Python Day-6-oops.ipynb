{
 "cells": [
  {
   "cell_type": "markdown",
   "metadata": {},
   "source": [
    "### Write a Python class to convert an integer to a roman numeral"
   ]
  },
  {
   "cell_type": "code",
   "execution_count": 29,
   "metadata": {},
   "outputs": [
    {
     "name": "stdout",
     "output_type": "stream",
     "text": [
      "MMMDXLIX\n",
      "MDCCCXCVI\n",
      "VIII\n"
     ]
    }
   ],
   "source": [
    "class int2rom:\n",
    "    \n",
    "    \n",
    "    def int_to_rom(self, num):\n",
    "        intv = [1000, 900, 500, 400,100, 90, 50, 40,10, 9, 5, 4,1 ]\n",
    "        roms = [\"M\", \"CM\", \"D\", \"CD\",\"C\", \"XC\", \"L\", \"XL\",\"X\", \"IX\", \"V\", \"IV\",\"I\" ]\n",
    "        rom_num = ''\n",
    "        i = 0\n",
    "        while  num > 0:\n",
    "            for _ in range(num // intv[i]):\n",
    "                rom_num += roms[i]\n",
    "                num -= intv[i]\n",
    "            i += 1\n",
    "        return rom_num\n",
    "\n",
    "\n",
    "print(int2rom().int_to_rom(3549))\n",
    "print(int2rom().int_to_rom(1896))\n",
    "print(int2rom().int_to_rom(8))"
   ]
  },
  {
   "cell_type": "markdown",
   "metadata": {},
   "source": [
    "### Write a Python class to convert a roman numeral to an integer."
   ]
  },
  {
   "cell_type": "code",
   "execution_count": 13,
   "metadata": {},
   "outputs": [
    {
     "name": "stdout",
     "output_type": "stream",
     "text": [
      "3549\n",
      "1896\n",
      "8\n"
     ]
    }
   ],
   "source": [
    "class rom2int:\n",
    "    \n",
    "    \n",
    "    def rom_to_int(self, rom):\n",
    "        rom_val = {'I': 1, 'V': 5, 'X': 10, 'L': 50, 'C': 100, 'D': 500, 'M': 1000}\n",
    "        int_val = 0\n",
    "        for i in range(len(rom)):\n",
    "            if i > 0 and rom_val[rom[i]] > rom_val[rom[i - 1]]:\n",
    "                int_val += rom_val[rom[i]] - 2 * rom_val[rom[i - 1]]\n",
    "            else:\n",
    "                int_val += rom_val[rom[i]]\n",
    "        return int_val\n",
    "\n",
    "print(rom2int().rom_to_int('MMMDXLIX'))\n",
    "print(rom2int().rom_to_int('MDCCCXCVI'))\n",
    "print(rom2int().rom_to_int('VIII'))\n"
   ]
  },
  {
   "cell_type": "markdown",
   "metadata": {},
   "source": [
    "### Write a Python class to find validity of a string of parentheses, '(', ')', '{', '}', '[' and']. These brackets must be close in the correct order, for example \"()\" and \"()[]{}\" are valid but \"[)\", \"({[)]\" and \"{{{\" are invalid."
   ]
  },
  {
   "cell_type": "code",
   "execution_count": 36,
   "metadata": {},
   "outputs": [
    {
     "name": "stdout",
     "output_type": "stream",
     "text": [
      "True\n",
      "False\n",
      "True\n"
     ]
    }
   ],
   "source": [
    "class parenthese:\n",
    "    def check_parenthese(self, str1):\n",
    "        stack, pchar = [], {\"(\": \")\", \"{\": \"}\", \"[\": \"]\"}\n",
    "        for parenthese in str1:\n",
    "            if parenthese in pchar:\n",
    "                stack.append(parenthese)\n",
    "            elif len(stack) == 0 or pchar[stack.pop()] != parenthese:\n",
    "                return False\n",
    "        return len(stack) == 0\n",
    "\n",
    "print(parenthese().check_parenthese(\"(){}[]\"))\n",
    "print(parenthese().check_parenthese(\"()[({)}]\"))\n",
    "print(parenthese().check_parenthese(\"(){}\"))"
   ]
  },
  {
   "cell_type": "markdown",
   "metadata": {},
   "source": [
    "()[({)}] \n",
    " \n",
    " \n",
    " here the paranthese is in correct order but it is mixed in the brackets and creates the false statements "
   ]
  },
  {
   "cell_type": "markdown",
   "metadata": {},
   "source": [
    "### Write a Python class to get all possible unique subsets from a set of distinct integers."
   ]
  },
  {
   "cell_type": "code",
   "execution_count": 34,
   "metadata": {},
   "outputs": [
    {
     "name": "stdout",
     "output_type": "stream",
     "text": [
      "[[], [5], [4], [4, 5], [3], [3, 5], [3, 4], [3, 4, 5], [2], [2, 5], [2, 4], [2, 4, 5], [2, 3], [2, 3, 5], [2, 3, 4], [2, 3, 4, 5], [1], [1, 5], [1, 4], [1, 4, 5], [1, 3], [1, 3, 5], [1, 3, 4], [1, 3, 4, 5], [1, 2], [1, 2, 5], [1, 2, 4], [1, 2, 4, 5], [1, 2, 3], [1, 2, 3, 5], [1, 2, 3, 4], [1, 2, 3, 4, 5]]\n"
     ]
    }
   ],
   "source": [
    "class sets:\n",
    "    def sub_sets(self, subset):\n",
    "        return self.subsetsRecur([], sorted(subset))\n",
    "    \n",
    "    def subsetsRecur(self, current, subset):\n",
    "        if subset:\n",
    "            return self.subsetsRecur(current, subset[1:]) + self.subsetsRecur(current + [subset[0]], subset[1:])\n",
    "        return [current]\n",
    "\n",
    "print(sets().sub_sets([1,2,3,4,5]))"
   ]
  },
  {
   "cell_type": "markdown",
   "metadata": {},
   "source": [
    "### Write a Python class to find the three elements that sum to zero from a set of n real numbers"
   ]
  },
  {
   "cell_type": "code",
   "execution_count": 40,
   "metadata": {},
   "outputs": [
    {
     "name": "stdout",
     "output_type": "stream",
     "text": [
      "[[-25, 12, 13], [-10, -3, 13], [-10, -2, 12], [-10, 2, 8], [-7, -3, 10], [-7, -1, 8], [-7, 3, 4], [-4, 1, 3], [-4, 2, 2], [-3, -1, 4], [-3, 1, 2], [-2, -1, 3]]\n"
     ]
    }
   ],
   "source": [
    "class sum2zero:\n",
    "    def threeSum(self, nums):\n",
    "        nums, result, i = sorted(nums), [], 0\n",
    "        while i < len(nums) - 2:\n",
    "            j, k = i + 1, len(nums) - 1\n",
    "            while j < k:\n",
    "                if nums[i] + nums[j] + nums[k] < 0:\n",
    "                    j += 1\n",
    "                elif nums[i] + nums[j] + nums[k] > 0:\n",
    "                    k -= 1\n",
    "                else:\n",
    "                    result.append([nums[i], nums[j], nums[k]])\n",
    "                    j, k = j + 1, k - 1\n",
    "                    while j < k and nums[j] == nums[j - 1]:\n",
    "                        j += 1\n",
    "                    while j < k and nums[k] == nums[k + 1]:\n",
    "                        k -= 1\n",
    "            i += 1\n",
    "            while i < len(nums) - 2 and nums[i] == nums[i - 1]:\n",
    "                i += 1\n",
    "        return result\n",
    "lstsum=sum2zero()\n",
    "print(lstsum.threeSum([-25, -10, -7, -3, 2, 4, 8, 10, -1, -2, 2, 3, 1, -4, 12, 13]))\n"
   ]
  },
  {
   "cell_type": "code",
   "execution_count": null,
   "metadata": {},
   "outputs": [],
   "source": []
  }
 ],
 "metadata": {
  "kernelspec": {
   "display_name": "Python 3",
   "language": "python",
   "name": "python3"
  },
  "language_info": {
   "codemirror_mode": {
    "name": "ipython",
    "version": 3
   },
   "file_extension": ".py",
   "mimetype": "text/x-python",
   "name": "python",
   "nbconvert_exporter": "python",
   "pygments_lexer": "ipython3",
   "version": "3.7.3"
  }
 },
 "nbformat": 4,
 "nbformat_minor": 4
}
