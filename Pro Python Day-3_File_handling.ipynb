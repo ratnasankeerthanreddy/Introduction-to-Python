{
 "cells": [
  {
   "cell_type": "markdown",
   "metadata": {},
   "source": [
    "# File Handling"
   ]
  },
  {
   "cell_type": "markdown",
   "metadata": {},
   "source": [
    "### Write a Python program to read an entire text file."
   ]
  },
  {
   "cell_type": "code",
   "execution_count": 8,
   "metadata": {
    "scrolled": true
   },
   "outputs": [
    {
     "data": {
      "text/plain": [
       "'hi\\nhello\\n\\nhellow world\\npython\\n\\npython for data sceine\\n gts\\nglobal technology\\nhi\\nbye\\nfile\\ntext file\\n'"
      ]
     },
     "execution_count": 8,
     "metadata": {},
     "output_type": "execute_result"
    }
   ],
   "source": [
    "file = open('demo.txt')\n",
    "file_read = file.read()\n",
    "file_read"
   ]
  },
  {
   "cell_type": "markdown",
   "metadata": {},
   "source": [
    "### Write a Python program to read first n lines of a file."
   ]
  },
  {
   "cell_type": "code",
   "execution_count": 7,
   "metadata": {
    "scrolled": false
   },
   "outputs": [
    {
     "name": "stdout",
     "output_type": "stream",
     "text": [
      "hi\n",
      "hello\n",
      "\n",
      "hellow world\n",
      "python\n"
     ]
    }
   ],
   "source": [
    "N = 5\n",
    "with open(\"demo.txt\", \"r\") as file: \n",
    "    for i in range(N):\n",
    "        line = next(file).strip()\n",
    "        print(line)"
   ]
  },
  {
   "cell_type": "markdown",
   "metadata": {},
   "source": [
    "### Write a Python program to append text to a file and display the text."
   ]
  },
  {
   "cell_type": "code",
   "execution_count": 2,
   "metadata": {},
   "outputs": [
    {
     "name": "stdout",
     "output_type": "stream",
     "text": [
      "hi\n",
      "hello\n",
      "\n",
      "hellow world\n",
      "python\n",
      "\n",
      "python for data sceine\n",
      " gts\n",
      "global technology\n",
      "hi\n",
      "bye\n",
      "file\n",
      "text file\n",
      "appending line 1, appending line 2. appending line 1,\n",
      " appending line 2. \n"
     ]
    }
   ],
   "source": [
    "def Appendtext(fname):\n",
    "    with open(fname,'a+') as f:\n",
    "        f.write('appending line 1,\\n ')\n",
    "        f.write('appending line 2. ')\n",
    "    f.close()\n",
    "# y=open('file1.txt')\n",
    "# print(y.read())\n",
    "Appendtext('demo.txt')\n",
    "\n",
    "x= open('demo.txt')\n",
    "print(x.read())"
   ]
  },
  {
   "cell_type": "markdown",
   "metadata": {},
   "source": [
    "### Write a Python program to read last n lines of a file."
   ]
  },
  {
   "cell_type": "code",
   "execution_count": 3,
   "metadata": {},
   "outputs": [
    {
     "name": "stdout",
     "output_type": "stream",
     "text": [
      "text file\n",
      "\n",
      "appending line 1, appending line 2. appending line 1,\n",
      "\n",
      " appending line 2. \n"
     ]
    }
   ],
   "source": [
    "def read_lastnlines(fname,n):\n",
    "    with open('demo.txt') as f:\n",
    "        for line in (f.readlines() [-n:]):\n",
    "            print(line)\n",
    "\n",
    "read_lastnlines('demo.txt',3)"
   ]
  },
  {
   "cell_type": "markdown",
   "metadata": {},
   "source": [
    "### Write a Python program to read a file line by line and store it into a list."
   ]
  },
  {
   "cell_type": "code",
   "execution_count": 6,
   "metadata": {},
   "outputs": [
    {
     "data": {
      "text/plain": [
       "['hi',\n",
       " 'hello',\n",
       " '',\n",
       " 'hellow world',\n",
       " 'python',\n",
       " '',\n",
       " 'python for data sceine',\n",
       " 'gts',\n",
       " 'global technology',\n",
       " 'hi',\n",
       " 'bye',\n",
       " 'file',\n",
       " 'text file',\n",
       " 'appending line 1, appending line 2. appending line 1,',\n",
       " 'appending line 2.']"
      ]
     },
     "execution_count": 6,
     "metadata": {},
     "output_type": "execute_result"
    }
   ],
   "source": [
    "with open(\"demo.txt\") as f:\n",
    "    lst = f.readlines()\n",
    "lst = [x.strip() for x in lst] \n",
    "lst"
   ]
  },
  {
   "cell_type": "markdown",
   "metadata": {},
   "source": []
  }
 ],
 "metadata": {
  "kernelspec": {
   "display_name": "Python 3",
   "language": "python",
   "name": "python3"
  },
  "language_info": {
   "codemirror_mode": {
    "name": "ipython",
    "version": 3
   },
   "file_extension": ".py",
   "mimetype": "text/x-python",
   "name": "python",
   "nbconvert_exporter": "python",
   "pygments_lexer": "ipython3",
   "version": "3.7.3"
  }
 },
 "nbformat": 4,
 "nbformat_minor": 4
}
