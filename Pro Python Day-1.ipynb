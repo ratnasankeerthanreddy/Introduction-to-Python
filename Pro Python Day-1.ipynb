{
 "cells": [
  {
   "cell_type": "markdown",
   "metadata": {},
   "source": [
    "### How many days in march? "
   ]
  },
  {
   "cell_type": "code",
   "execution_count": 6,
   "metadata": {},
   "outputs": [
    {
     "name": "stdout",
     "output_type": "stream",
     "text": [
      "List of months: January,\n",
      " February,\n",
      " March,\n",
      " April,\n",
      " May,\n",
      " June,\n",
      " July,\n",
      " August,\n",
      " September,\n",
      " October,\n",
      " November,\n",
      " December\n",
      "Enter the name of Month: March\n",
      "No. of days: 31 day\n"
     ]
    }
   ],
   "source": [
    "print(\"List of months: January,\\n February,\\n March,\\n April,\\n May,\\n June,\\n July,\\n August,\\n September,\\n October,\\n November,\\n December\")\n",
    "#specifying the input names\n",
    "\n",
    "month_name = input(\"Enter the name of Month: \")  #dynamic input\n",
    "\n",
    "if month_name == \"February\":\n",
    "    print(\"No. of days: 28/29 days\")\n",
    "elif month_name in (\"April\", \"June\", \"September\", \"November\"):\n",
    "    print(\"No. of days: 30 days\")\n",
    "elif month_name in (\"January\", \"March\", \"May\", \"July\", \"August\", \"October\", \"December\"):\n",
    "    print(\"No. of days: 31 day\")\n",
    "else:\n",
    "    print(\"You have entered Wrong month name:\") \n",
    "    print(\"Please enter correct month from the list..!\")"
   ]
  },
  {
   "cell_type": "markdown",
   "metadata": {},
   "source": [
    "### What is the 3 letter state code of India?"
   ]
  },
  {
   "cell_type": "code",
   "execution_count": 9,
   "metadata": {},
   "outputs": [
    {
     "name": "stdout",
     "output_type": "stream",
     "text": [
      "List of countries : \n",
      " india \n",
      " unites states of america \n",
      " united kindom \n",
      " itlay\n",
      "\n",
      " Enter the country name :india\n",
      "\n",
      " IND\n"
     ]
    }
   ],
   "source": [
    "print(\"List of countries : \\n india \\n unites states of america \\n united kindom \\n itlay\")\n",
    "\n",
    "country_name=input(\"\\n Enter the country name :\")\n",
    "\n",
    "if country_name== \"india\":\n",
    "    print(\"\\n IND\")\n",
    "elif country_name == \"unites states of america\":      \n",
    "    print(\"\\n USA\")\n",
    "elif country_name == \"united kindom\" :\n",
    "    print(\"\\n UK\")\n",
    "elif country_name ==\"itlay\":\n",
    "    print(\"\\n ITY\")\n",
    "else:\n",
    "    print(\"\\n You have entered Wrong country name\")\n",
    "    print(\"\\n Please enter correct country code\")\n"
   ]
  },
  {
   "cell_type": "markdown",
   "metadata": {},
   "source": [
    "### 3 inputs\n",
    "\n",
    "### A < B < C"
   ]
  },
  {
   "cell_type": "code",
   "execution_count": 10,
   "metadata": {},
   "outputs": [
    {
     "name": "stdout",
     "output_type": "stream",
     "text": [
      "Elements of original array: \n",
      "5 2 8 \n",
      "Elements of array sorted in ascending order: \n",
      "2 5 8 "
     ]
    }
   ],
   "source": [
    "#Initialize array     \n",
    "arr = [5, 2, 8];     \n",
    "temp = 0;    \n",
    "     \n",
    "#Displaying elements of original array    \n",
    "print(\"Elements of original array: \");    \n",
    "for i in range(0, len(arr)):    \n",
    "    print(arr[i], end=\" \");    \n",
    "     \n",
    "#Sort the array in ascending order    \n",
    "for i in range(0, len(arr)):    \n",
    "    for j in range(i+1, len(arr)):    \n",
    "        if(arr[i] > arr[j]):    \n",
    "            temp = arr[i];    \n",
    "            arr[i] = arr[j];    \n",
    "            arr[j] = temp;    \n",
    "print();    \n",
    "     \n",
    "#Displaying elements of the array after sorting    \n",
    "    \n",
    "print(\"Elements of array sorted in ascending order: \");    \n",
    "for i in range(0, len(arr)):    \n",
    "    print(arr[i], end=\" \"); "
   ]
  },
  {
   "cell_type": "markdown",
   "metadata": {},
   "source": [
    "### Positive or Negative\n",
    "\n",
    "### 1 or -1"
   ]
  },
  {
   "cell_type": "code",
   "execution_count": 12,
   "metadata": {},
   "outputs": [
    {
     "name": "stdout",
     "output_type": "stream",
     "text": [
      "Enter any number:-962.3\n",
      "\n",
      " The number is negavitive\n"
     ]
    }
   ],
   "source": [
    "num=float(input(\"Enter any number:\")) #dynmaic input\n",
    "\n",
    "if num > 0 :\n",
    "    print(\"\\n The number is positive\")\n",
    "    \n",
    "else :\n",
    "    print(\"\\n The number is negavitive\")"
   ]
  },
  {
   "cell_type": "markdown",
   "metadata": {},
   "source": [
    "### Guess the number?\n",
    "\n",
    "### Less than or Greater than"
   ]
  },
  {
   "cell_type": "code",
   "execution_count": 13,
   "metadata": {},
   "outputs": [
    {
     "name": "stdout",
     "output_type": "stream",
     "text": [
      "Enter any number:4\n",
      "Enter any another number:4\n",
      "a and b are equal\n"
     ]
    }
   ],
   "source": [
    "a=float(input(\"Enter any number:\"))\n",
    "b=float(input(\"Enter any another number:\"))\n",
    "\n",
    "if a>b:\n",
    "    print(\"a is greater than b\")\n",
    "elif a<b:\n",
    "    print(\"a is lessthan b \")\n",
    "else :\n",
    "    print(\"a and b are equal\")"
   ]
  },
  {
   "cell_type": "markdown",
   "metadata": {},
   "source": [
    "### Program to add natural numbers.\n",
    "\n",
    "### Sum = 1+2+3+4…..n (For and While)"
   ]
  },
  {
   "cell_type": "code",
   "execution_count": 14,
   "metadata": {},
   "outputs": [
    {
     "name": "stdout",
     "output_type": "stream",
     "text": [
      "enter any number :5\n",
      "The sum of 1st n natural numbers is : 15.0\n"
     ]
    }
   ],
   "source": [
    "\n",
    "num = float(input(\"enter any number :\"))#dynamic input\n",
    "\n",
    "if num < 0:\n",
    "    print(\"Enter a positive number\")\n",
    "else:\n",
    "    sum = 0\n",
    "   # use while loop to iterate until zero\n",
    "    while(num > 0):\n",
    "        sum += num\n",
    "        num -= 1\n",
    "    print(\"The sum of 1st n natural numbers is :\", sum)"
   ]
  }
 ],
 "metadata": {
  "kernelspec": {
   "display_name": "Python 3",
   "language": "python",
   "name": "python3"
  },
  "language_info": {
   "codemirror_mode": {
    "name": "ipython",
    "version": 3
   },
   "file_extension": ".py",
   "mimetype": "text/x-python",
   "name": "python",
   "nbconvert_exporter": "python",
   "pygments_lexer": "ipython3",
   "version": "3.7.3"
  }
 },
 "nbformat": 4,
 "nbformat_minor": 4
}
